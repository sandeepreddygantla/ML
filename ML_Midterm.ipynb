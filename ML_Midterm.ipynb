{
  "nbformat": 4,
  "nbformat_minor": 0,
  "metadata": {
    "colab": {
      "provenance": []
    },
    "kernelspec": {
      "name": "python3",
      "display_name": "Python 3"
    },
    "language_info": {
      "name": "python"
    }
  },
  "cells": [
    {
      "cell_type": "markdown",
      "source": [
        "# Perceptron Algorithm"
      ],
      "metadata": {
        "id": "iCNaeB21b4RN"
      }
    },
    {
      "cell_type": "code",
      "execution_count": 21,
      "metadata": {
        "id": "-WE-akVPnYLI"
      },
      "outputs": [],
      "source": [
        "import numpy as np\n",
        "\n",
        "# Define the training data\n",
        "training_data = [\n",
        "    ([1, 0, 0, 0, 1, 0, 1, 0, 1, 0, 0, 0, 1, 0, 0, 0, 1, 0, 1, 0, 1, 0, 0, 0, 1], 0),  # Cross\n",
        "    ([0, 1, 0, 1, 0, 1, 0, 1, 0, 1, 0, 1, 0, 1, 0, 1, 0, 1, 0, 1, 0, 1, 0, 1, 0], 1)   # Circle\n",
        "]\n"
      ]
    },
    {
      "cell_type": "code",
      "source": [
        "# Define the perceptron class\n",
        "class Perceptron:\n",
        "    def __init__(self, num_inputs):\n",
        "        self.weights = np.zeros(num_inputs)\n",
        "        self.bias = 0\n",
        "\n",
        "    def predict(self, inputs):\n",
        "        linear_combination = np.dot(inputs, self.weights) + self.bias\n",
        "        return 1 if linear_combination >= 0 else 0\n",
        "\n",
        "    def train(self, training_data, num_epochs, learning_rate):\n",
        "        for _ in range(num_epochs):\n",
        "            for inputs, target in training_data:\n",
        "                prediction = self.predict(inputs)\n",
        "                error = target - prediction\n",
        "                self.weights += learning_rate * error * np.array(inputs)\n",
        "                self.bias += learning_rate * error\n"
      ],
      "metadata": {
        "id": "6jNlcgbRndcs"
      },
      "execution_count": 25,
      "outputs": []
    },
    {
      "cell_type": "code",
      "source": [
        "# Create a perceptron with 25 inputs (25 pixels)\n",
        "perceptron = Perceptron(25)"
      ],
      "metadata": {
        "id": "A0920yJUngaw"
      },
      "execution_count": 26,
      "outputs": []
    },
    {
      "cell_type": "code",
      "source": [
        "# Train the perceptron\n",
        "perceptron.train(training_data, num_epochs=100, learning_rate=0.1)"
      ],
      "metadata": {
        "id": "oxaCSEwUngXW"
      },
      "execution_count": 29,
      "outputs": []
    },
    {
      "cell_type": "code",
      "source": [
        "# Test the perceptron on new examples\n",
        "test_data = [\n",
        "    ([1, 0, 0, 0, 1, 0, 1, 0, 1, 0, 0, 0, 1, 0, 0, 0, 1, 0, 1, 0, 1, 0, 0, 0, 1], \"Cross\"),\n",
        "    ([0, 1, 0, 1, 0, 1, 0, 1, 0, 1, 0, 1, 0, 1, 0, 1, 0, 1, 0, 1, 0, 1, 0, 1, 0], \"Circle\"),\n",
        "    ([0, 0, 0, 0, 0, 0, 0, 0, 0, 0, 0, 0, 0, 0, 0, 0, 0, 0, 0, 0, 0, 0, 0, 0, 0], \"Unknown\")\n",
        "]\n",
        "\n",
        "for inputs, label in test_data:\n",
        "    prediction = perceptron.predict(inputs)\n",
        "    if prediction == 1:\n",
        "        pd_value = 1\n",
        "        result = \"Circle\"\n",
        "    else:\n",
        "        pd_value = 0\n",
        "        result = \"Cross\"\n",
        "    print(f\"Input: {inputs}- Predicted Value: {pd_value}  - Predicted: {result} - Actual: {label}\")"
      ],
      "metadata": {
        "colab": {
          "base_uri": "https://localhost:8080/"
        },
        "id": "QkwvLPGKngTC",
        "outputId": "75ab4289-2b89-48e4-f82d-8ac919c1e202"
      },
      "execution_count": 31,
      "outputs": [
        {
          "output_type": "stream",
          "name": "stdout",
          "text": [
            "Input: [1, 0, 0, 0, 1, 0, 1, 0, 1, 0, 0, 0, 1, 0, 0, 0, 1, 0, 1, 0, 1, 0, 0, 0, 1]- Predicted Value: 0  - Predicted: Cross - Actual: Cross\n",
            "Input: [0, 1, 0, 1, 0, 1, 0, 1, 0, 1, 0, 1, 0, 1, 0, 1, 0, 1, 0, 1, 0, 1, 0, 1, 0]- Predicted Value: 1  - Predicted: Circle - Actual: Circle\n",
            "Input: [0, 0, 0, 0, 0, 0, 0, 0, 0, 0, 0, 0, 0, 0, 0, 0, 0, 0, 0, 0, 0, 0, 0, 0, 0]- Predicted Value: 1  - Predicted: Circle - Actual: Unknown\n"
          ]
        }
      ]
    },
    {
      "cell_type": "markdown",
      "source": [
        "#Bayes rule"
      ],
      "metadata": {
        "id": "EdodiSbDbz8I"
      }
    },
    {
      "cell_type": "code",
      "source": [
        "def bayes_rule(p_a, p_b_given_a, p_b):\n",
        "    return (p_b_given_a * p_a) / p_b\n",
        "\n",
        "p_a = 0.05  # Prevalence of breast cancer\n",
        "p_b_given_a = 0.8  # Sensitivity or true positive rate\n",
        "p_b_given_not_a = 0.1  # False positive rate\n",
        "p_not_a = 1 - p_a  # Probability of not having breast cancer\n",
        "p_b = (p_b_given_a * p_a) + (p_b_given_not_a * p_not_a)  # Total probability of a positive test result"
      ],
      "metadata": {
        "id": "4rprn3ASaEB1"
      },
      "execution_count": 3,
      "outputs": []
    },
    {
      "cell_type": "code",
      "source": [
        "result = bayes_rule(p_a, p_b_given_a, p_b)\n",
        "print(f\"The probability of having breast cancer given a positive test result is: {result}\")\n"
      ],
      "metadata": {
        "colab": {
          "base_uri": "https://localhost:8080/"
        },
        "id": "YSBI_O4caD8n",
        "outputId": "fb8507be-4a24-4ed5-e0cd-f3ece1f7b4af"
      },
      "execution_count": 5,
      "outputs": [
        {
          "output_type": "stream",
          "name": "stdout",
          "text": [
            "The probability of having breast cancer given a positive test result is: 0.29629629629629634\n"
          ]
        }
      ]
    },
    {
      "cell_type": "code",
      "source": [],
      "metadata": {
        "id": "rYo5chpeaD5X"
      },
      "execution_count": null,
      "outputs": []
    }
  ]
}