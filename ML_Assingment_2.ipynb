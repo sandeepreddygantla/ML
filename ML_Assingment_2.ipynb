{
  "nbformat": 4,
  "nbformat_minor": 0,
  "metadata": {
    "colab": {
      "provenance": []
    },
    "kernelspec": {
      "name": "python3",
      "display_name": "Python 3"
    },
    "language_info": {
      "name": "python"
    }
  },
  "cells": [
    {
      "cell_type": "code",
      "source": [
        "import pandas as pd\n",
        "import numpy as np\n",
        "from sklearn.datasets import load_iris\n",
        "from sklearn.model_selection import train_test_split\n",
        "from sklearn.neighbors import NearestNeighbors, KNeighborsClassifier\n",
        "import matplotlib.pyplot as plt\n",
        "from scipy.stats import mode"
      ],
      "metadata": {
        "id": "a9qWVpDQ35zc"
      },
      "execution_count": 5,
      "outputs": []
    },
    {
      "cell_type": "code",
      "source": [
        "# Load Iris dataset\n",
        "iris = load_iris()\n",
        "X = iris.data\n",
        "y = iris.target\n",
        "print(iris.data.shape)"
      ],
      "metadata": {
        "colab": {
          "base_uri": "https://localhost:8080/"
        },
        "id": "79ze_Srb6JE4",
        "outputId": "637e2697-76ab-4042-c8c5-d562d8ff4eae"
      },
      "execution_count": 20,
      "outputs": [
        {
          "output_type": "stream",
          "name": "stdout",
          "text": [
            "(150, 4)\n"
          ]
        }
      ]
    },
    {
      "cell_type": "code",
      "source": [
        "# Calculate the mean vector of Iris dataset\n",
        "mean_vector = np.mean(X, axis=0)\n",
        "mean_vector"
      ],
      "metadata": {
        "colab": {
          "base_uri": "https://localhost:8080/"
        },
        "id": "yyvb3hcM4rKw",
        "outputId": "65816a46-892b-481d-8c8c-ad7d1fc1731c"
      },
      "execution_count": 9,
      "outputs": [
        {
          "output_type": "execute_result",
          "data": {
            "text/plain": [
              "array([5.84333333, 3.05733333, 3.758     , 1.19933333])"
            ]
          },
          "metadata": {},
          "execution_count": 9
        }
      ]
    },
    {
      "cell_type": "code",
      "source": [
        "# Find the 110 closest nearest neighbors to the mean vector\n",
        "nbrs = NearestNeighbors(n_neighbors=110).fit(X)\n",
        "distances, indices = nbrs.kneighbors([mean_vector])\n",
        "nbrs"
      ],
      "metadata": {
        "colab": {
          "base_uri": "https://localhost:8080/",
          "height": 74
        },
        "id": "Z5UGDtQj4rO_",
        "outputId": "554bc7c1-c7ad-4c5f-db89-ed7d3403d1a4"
      },
      "execution_count": 10,
      "outputs": [
        {
          "output_type": "execute_result",
          "data": {
            "text/plain": [
              "NearestNeighbors(n_neighbors=110)"
            ],
            "text/html": [
              "<style>#sk-container-id-1 {color: black;background-color: white;}#sk-container-id-1 pre{padding: 0;}#sk-container-id-1 div.sk-toggleable {background-color: white;}#sk-container-id-1 label.sk-toggleable__label {cursor: pointer;display: block;width: 100%;margin-bottom: 0;padding: 0.3em;box-sizing: border-box;text-align: center;}#sk-container-id-1 label.sk-toggleable__label-arrow:before {content: \"▸\";float: left;margin-right: 0.25em;color: #696969;}#sk-container-id-1 label.sk-toggleable__label-arrow:hover:before {color: black;}#sk-container-id-1 div.sk-estimator:hover label.sk-toggleable__label-arrow:before {color: black;}#sk-container-id-1 div.sk-toggleable__content {max-height: 0;max-width: 0;overflow: hidden;text-align: left;background-color: #f0f8ff;}#sk-container-id-1 div.sk-toggleable__content pre {margin: 0.2em;color: black;border-radius: 0.25em;background-color: #f0f8ff;}#sk-container-id-1 input.sk-toggleable__control:checked~div.sk-toggleable__content {max-height: 200px;max-width: 100%;overflow: auto;}#sk-container-id-1 input.sk-toggleable__control:checked~label.sk-toggleable__label-arrow:before {content: \"▾\";}#sk-container-id-1 div.sk-estimator input.sk-toggleable__control:checked~label.sk-toggleable__label {background-color: #d4ebff;}#sk-container-id-1 div.sk-label input.sk-toggleable__control:checked~label.sk-toggleable__label {background-color: #d4ebff;}#sk-container-id-1 input.sk-hidden--visually {border: 0;clip: rect(1px 1px 1px 1px);clip: rect(1px, 1px, 1px, 1px);height: 1px;margin: -1px;overflow: hidden;padding: 0;position: absolute;width: 1px;}#sk-container-id-1 div.sk-estimator {font-family: monospace;background-color: #f0f8ff;border: 1px dotted black;border-radius: 0.25em;box-sizing: border-box;margin-bottom: 0.5em;}#sk-container-id-1 div.sk-estimator:hover {background-color: #d4ebff;}#sk-container-id-1 div.sk-parallel-item::after {content: \"\";width: 100%;border-bottom: 1px solid gray;flex-grow: 1;}#sk-container-id-1 div.sk-label:hover label.sk-toggleable__label {background-color: #d4ebff;}#sk-container-id-1 div.sk-serial::before {content: \"\";position: absolute;border-left: 1px solid gray;box-sizing: border-box;top: 0;bottom: 0;left: 50%;z-index: 0;}#sk-container-id-1 div.sk-serial {display: flex;flex-direction: column;align-items: center;background-color: white;padding-right: 0.2em;padding-left: 0.2em;position: relative;}#sk-container-id-1 div.sk-item {position: relative;z-index: 1;}#sk-container-id-1 div.sk-parallel {display: flex;align-items: stretch;justify-content: center;background-color: white;position: relative;}#sk-container-id-1 div.sk-item::before, #sk-container-id-1 div.sk-parallel-item::before {content: \"\";position: absolute;border-left: 1px solid gray;box-sizing: border-box;top: 0;bottom: 0;left: 50%;z-index: -1;}#sk-container-id-1 div.sk-parallel-item {display: flex;flex-direction: column;z-index: 1;position: relative;background-color: white;}#sk-container-id-1 div.sk-parallel-item:first-child::after {align-self: flex-end;width: 50%;}#sk-container-id-1 div.sk-parallel-item:last-child::after {align-self: flex-start;width: 50%;}#sk-container-id-1 div.sk-parallel-item:only-child::after {width: 0;}#sk-container-id-1 div.sk-dashed-wrapped {border: 1px dashed gray;margin: 0 0.4em 0.5em 0.4em;box-sizing: border-box;padding-bottom: 0.4em;background-color: white;}#sk-container-id-1 div.sk-label label {font-family: monospace;font-weight: bold;display: inline-block;line-height: 1.2em;}#sk-container-id-1 div.sk-label-container {text-align: center;}#sk-container-id-1 div.sk-container {/* jupyter's `normalize.less` sets `[hidden] { display: none; }` but bootstrap.min.css set `[hidden] { display: none !important; }` so we also need the `!important` here to be able to override the default hidden behavior on the sphinx rendered scikit-learn.org. See: https://github.com/scikit-learn/scikit-learn/issues/21755 */display: inline-block !important;position: relative;}#sk-container-id-1 div.sk-text-repr-fallback {display: none;}</style><div id=\"sk-container-id-1\" class=\"sk-top-container\"><div class=\"sk-text-repr-fallback\"><pre>NearestNeighbors(n_neighbors=110)</pre><b>In a Jupyter environment, please rerun this cell to show the HTML representation or trust the notebook. <br />On GitHub, the HTML representation is unable to render, please try loading this page with nbviewer.org.</b></div><div class=\"sk-container\" hidden><div class=\"sk-item\"><div class=\"sk-estimator sk-toggleable\"><input class=\"sk-toggleable__control sk-hidden--visually\" id=\"sk-estimator-id-1\" type=\"checkbox\" checked><label for=\"sk-estimator-id-1\" class=\"sk-toggleable__label sk-toggleable__label-arrow\">NearestNeighbors</label><div class=\"sk-toggleable__content\"><pre>NearestNeighbors(n_neighbors=110)</pre></div></div></div></div></div>"
            ]
          },
          "metadata": {},
          "execution_count": 10
        }
      ]
    },
    {
      "cell_type": "code",
      "source": [
        "# Discard the farthest 40 examples\n",
        "indices = indices.squeeze()[:110]\n",
        "indices"
      ],
      "metadata": {
        "colab": {
          "base_uri": "https://localhost:8080/"
        },
        "id": "yOzv2DXn4rVm",
        "outputId": "6f788b78-a7fa-4fca-f295-d05a7f8964e0"
      },
      "execution_count": 11,
      "outputs": [
        {
          "output_type": "execute_result",
          "data": {
            "text/plain": [
              "array([ 64,  82,  88,  71,  99,  95,  96,  92,  67,  61,  79,  94,  69,\n",
              "        97,  89,  80,  81,  59,  74,  55,  78,  66,  90,  53,  91,  84,\n",
              "        85,  62,  51,  63,  73,  75,  65,  87,  54,  56,  58,  98,  70,\n",
              "       138,  68,  93,  57, 126,  86, 127,  72,  60, 123, 106, 121,  76,\n",
              "        83, 133, 149,  50, 119, 101, 142,  52, 113,  77, 146, 110, 147,\n",
              "       111, 114, 137, 134, 116, 115, 103, 145, 141, 148, 128, 139, 112,\n",
              "       132, 136,  44,  23, 124,  20, 140, 108, 104,  18,  24,   5,  43,\n",
              "        31, 120,  26, 129, 144,  25,  21,  10,  27, 143,  30,  46,  39,\n",
              "        48,  11,   7, 102,  29, 100])"
            ]
          },
          "metadata": {},
          "execution_count": 11
        }
      ]
    },
    {
      "cell_type": "code",
      "source": [
        "\n",
        "# Create the new dataset with 110 examples\n",
        "X_new = X[indices]\n",
        "y_new = y[indices]\n",
        "\n",
        "print(X_new.data.shape)\n",
        "print(y_new.data.shape)"
      ],
      "metadata": {
        "colab": {
          "base_uri": "https://localhost:8080/"
        },
        "id": "3UqVvdlq42T_",
        "outputId": "bc3f235f-dfc5-463d-f7c5-e7856568642c"
      },
      "execution_count": 12,
      "outputs": [
        {
          "output_type": "stream",
          "name": "stdout",
          "text": [
            "(110, 4)\n",
            "(110,)\n"
          ]
        }
      ]
    },
    {
      "cell_type": "code",
      "source": [
        "# Split the new dataset 50-50 into train-test sets\n",
        "X_train, X_test, y_train, y_test = train_test_split(X_new, y_new, test_size=0.5, random_state=220)"
      ],
      "metadata": {
        "id": "dabOZwcu45Th"
      },
      "execution_count": 13,
      "outputs": []
    },
    {
      "cell_type": "code",
      "source": [
        "errors = []\n",
        "for n_neighbors in range(1, 11):\n",
        "    # Train the nearest neighbor classifier\n",
        "    knn_clf = KNeighborsClassifier(n_neighbors=n_neighbors)\n",
        "    knn_clf.fit(X_train, y_train)\n",
        "\n",
        "    # Calculate the error rate on the test set\n",
        "    error = 1 - knn_clf.score(X_test, y_test)\n",
        "    errors.append(error)\n",
        "\n",
        "    print(f\"K={n_neighbors}, Error rate: {error}\")"
      ],
      "metadata": {
        "colab": {
          "base_uri": "https://localhost:8080/"
        },
        "id": "3SGEGK3248HJ",
        "outputId": "8ea961d6-cd32-4a8b-cfd1-59f3ac3aea98"
      },
      "execution_count": 14,
      "outputs": [
        {
          "output_type": "stream",
          "name": "stdout",
          "text": [
            "K=1, Error rate: 0.12727272727272732\n",
            "K=2, Error rate: 0.18181818181818177\n",
            "K=3, Error rate: 0.054545454545454564\n",
            "K=4, Error rate: 0.10909090909090913\n",
            "K=5, Error rate: 0.036363636363636376\n",
            "K=6, Error rate: 0.07272727272727275\n",
            "K=7, Error rate: 0.054545454545454564\n",
            "K=8, Error rate: 0.09090909090909094\n",
            "K=9, Error rate: 0.09090909090909094\n",
            "K=10, Error rate: 0.10909090909090913\n"
          ]
        }
      ]
    },
    {
      "cell_type": "code",
      "source": [
        "# Plot the error as a function of K\n",
        "plt.figure()\n",
        "plt.plot(range(1, 11), errors, color='b', marker='*')\n",
        "plt.xlabel(\"#Neighbors (K)\")\n",
        "plt.ylabel(\"Classification Error (%)\")\n",
        "plt.title(\"KNN Error\")\n",
        "plt.show()"
      ],
      "metadata": {
        "colab": {
          "base_uri": "https://localhost:8080/",
          "height": 472
        },
        "id": "D-NN8JQC4-cy",
        "outputId": "35e6bc99-381d-4190-c056-622d8d97c308"
      },
      "execution_count": 16,
      "outputs": [
        {
          "output_type": "display_data",
          "data": {
            "text/plain": [
              "<Figure size 640x480 with 1 Axes>"
            ],
            "image/png": "[encoded data removed]"
          },
          "metadata": {}
        }
      ]
    },
    {
      "cell_type": "code",
      "source": [
        "# Print the mean vector\n",
        "print(\"4D Mean Vector:\")\n",
        "print(mean_vector)"
      ],
      "metadata": {
        "colab": {
          "base_uri": "https://localhost:8080/"
        },
        "id": "1mbmatCq5B0n",
        "outputId": "6abb080a-a882-4ff5-ab7a-769e654887ce"
      },
      "execution_count": 17,
      "outputs": [
        {
          "output_type": "stream",
          "name": "stdout",
          "text": [
            "4D Mean Vector:\n",
            "[5.84333333 3.05733333 3.758      1.19933333]\n"
          ]
        }
      ]
    },
    {
      "cell_type": "code",
      "source": [
        "# Print the index of the closest example to the mean vector\n",
        "print(\"Index of the closest example to the mean vector:\", indices[0])"
      ],
      "metadata": {
        "colab": {
          "base_uri": "https://localhost:8080/"
        },
        "id": "h901-cas5GHu",
        "outputId": "b894831a-64e7-476d-f7dd-9f57f8facad7"
      },
      "execution_count": 18,
      "outputs": [
        {
          "output_type": "stream",
          "name": "stdout",
          "text": [
            "Index of the closest example to the mean vector: 64\n"
          ]
        }
      ]
    }
  ]
}