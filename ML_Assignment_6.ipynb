{
  "nbformat": 4,
  "nbformat_minor": 0,
  "metadata": {
    "colab": {
      "provenance": []
    },
    "kernelspec": {
      "name": "python3",
      "display_name": "Python 3"
    },
    "language_info": {
      "name": "python"
    }
  },
  "cells": [
    {
      "cell_type": "code",
      "source": [
        "# Approch 1\n",
        "import numpy as np\n",
        "from sklearn.datasets import load_iris\n",
        "from sklearn.linear_model import LogisticRegression\n",
        "from sklearn.model_selection import train_test_split\n",
        "\n",
        "iris = load_iris()\n",
        "X = iris.data[:, 1]  # Sepal width feature\n",
        "y = iris.target\n",
        "\n",
        "print(X)"
      ],
      "metadata": {
        "colab": {
          "base_uri": "https://localhost:8080/"
        },
        "id": "r_szpaZTLQ-J",
        "outputId": "17f096dc-d899-4729-cadb-de51dc7e78df"
      },
      "execution_count": 37,
      "outputs": [
        {
          "output_type": "stream",
          "name": "stdout",
          "text": [
            "[3.5 3.  3.2 3.1 3.6 3.9 3.4 3.4 2.9 3.1 3.7 3.4 3.  3.  4.  4.4 3.9 3.5\n",
            " 3.8 3.8 3.4 3.7 3.6 3.3 3.4 3.  3.4 3.5 3.4 3.2 3.1 3.4 4.1 4.2 3.1 3.2\n",
            " 3.5 3.6 3.  3.4 3.5 2.3 3.2 3.5 3.8 3.  3.8 3.2 3.7 3.3 3.2 3.2 3.1 2.3\n",
            " 2.8 2.8 3.3 2.4 2.9 2.7 2.  3.  2.2 2.9 2.9 3.1 3.  2.7 2.2 2.5 3.2 2.8\n",
            " 2.5 2.8 2.9 3.  2.8 3.  2.9 2.6 2.4 2.4 2.7 2.7 3.  3.4 3.1 2.3 3.  2.5\n",
            " 2.6 3.  2.6 2.3 2.7 3.  2.9 2.9 2.5 2.8 3.3 2.7 3.  2.9 3.  3.  2.5 2.9\n",
            " 2.5 3.6 3.2 2.7 3.  2.5 2.8 3.2 3.  3.8 2.6 2.2 3.2 2.8 2.8 2.7 3.3 3.2\n",
            " 2.8 3.  2.8 3.  2.8 3.8 2.8 2.8 2.6 3.  3.4 3.1 3.  3.1 3.1 3.1 2.7 3.2\n",
            " 3.3 3.  2.5 3.  3.4 3. ]\n"
          ]
        }
      ]
    },
    {
      "cell_type": "code",
      "source": [
        "# Split the dataset into training and testing subsets using the odd-even indexing method\n",
        "X_train = X[::2].reshape(-1, 1)\n",
        "y_train = y[::2]\n",
        "X_test = X[1::2].reshape(-1, 1)\n",
        "y_test = y[1::2]\n"
      ],
      "metadata": {
        "id": "_bzlrSt0J2U3"
      },
      "execution_count": 33,
      "outputs": []
    },
    {
      "cell_type": "code",
      "source": [
        "#Create and train a logistic regression classifier for each class against the rest\n",
        "classifiers = []\n",
        "accuracies = []\n",
        "\n",
        "for class_label in np.unique(y_train):\n",
        "    y_binary_train = np.where(y_train == class_label, 1, 0)\n",
        "    y_binary_test = np.where(y_test == class_label, 1, 0)\n",
        "\n",
        "    classifier = LogisticRegression()\n",
        "    classifier.fit(X_train, y_binary_train)\n",
        "    classifiers.append(classifier)\n",
        "\n",
        "    accuracy = classifier.score(X_test, y_binary_test)\n",
        "    accuracies.append(accuracy)"
      ],
      "metadata": {
        "id": "XZsokM1xMv5v"
      },
      "execution_count": 34,
      "outputs": []
    },
    {
      "cell_type": "code",
      "source": [
        "#Print the prediction accuracies for each classifier\n",
        "class_labels = iris.target_names\n",
        "for i, class_label in enumerate(class_labels):\n",
        "    print(f\"Accuracy for {class_label} vs. non-{class_label}: {accuracies[i]}\")\n"
      ],
      "metadata": {
        "colab": {
          "base_uri": "https://localhost:8080/"
        },
        "id": "LFJI8XyBMx1y",
        "outputId": "7a84b401-5025-403d-9f75-daf0af96b0eb"
      },
      "execution_count": 40,
      "outputs": [
        {
          "output_type": "stream",
          "name": "stdout",
          "text": [
            "Accuracy for setosa vs. non-setosa: 0.7866666666666666\n",
            "Accuracy for versicolor vs. non-versicolor: 0.7333333333333333\n",
            "Accuracy for virginica vs. non-virginica: 0.6666666666666666\n"
          ]
        }
      ]
    },
    {
      "cell_type": "code",
      "source": [
        "# Approch 2\n",
        "\n",
        "import numpy as np\n",
        "from sklearn import datasets\n",
        "from sklearn.model_selection import train_test_split\n",
        "from sklearn.linear_model import LogisticRegression\n",
        "from sklearn.metrics import accuracy_score\n",
        "\n",
        "# Step 1: Load the Iris dataset and extract the sepal width feature and class labels.\n",
        "iris = datasets.load_iris()\n",
        "X = iris.data[:, 1]  # Use the sepal width feature (index 1).\n",
        "y = iris.target\n",
        "\n",
        "# Step 2: Split the dataset into odd and even indexed subsets for training and testing.\n",
        "X_train, X_test = X[::2], X[1::2]\n",
        "y_train, y_test = y[::2], y[1::2]\n",
        "\n",
        "# Step 3: Train three logistic regression classifiers for each class against the rest.\n",
        "# Setosa vs. non-Setosa\n",
        "setosa_classifier = LogisticRegression()\n",
        "setosa_classifier.fit(X_train.reshape(-1, 1), (y_train == 0).astype(int))\n",
        "\n",
        "# Virginica vs. non-Virginica\n",
        "virginica_classifier = LogisticRegression()\n",
        "virginica_classifier.fit(X_train.reshape(-1, 1), (y_train == 2).astype(int))\n",
        "\n",
        "# Versicolor vs. non-Versicolor\n",
        "versicolor_classifier = LogisticRegression()\n",
        "versicolor_classifier.fit(X_train.reshape(-1, 1), (y_train == 1).astype(int))\n",
        "\n",
        "# Step 4: Calculate the prediction accuracies for each classifier.\n",
        "setosa_predictions = setosa_classifier.predict(X_test.reshape(-1, 1))\n",
        "setosa_accuracy = accuracy_score((y_test == 0).astype(int), setosa_predictions)\n",
        "\n",
        "virginica_predictions = virginica_classifier.predict(X_test.reshape(-1, 1))\n",
        "virginica_accuracy = accuracy_score((y_test == 2).astype(int), virginica_predictions)\n",
        "\n",
        "versicolor_predictions = versicolor_classifier.predict(X_test.reshape(-1, 1))\n",
        "versicolor_accuracy = accuracy_score((y_test == 1).astype(int), versicolor_predictions)\n",
        "\n",
        "print(\"Setosa vs. non-Setosa Accuracy:\", setosa_accuracy)\n",
        "print(\"Virginica vs. non-Virginica Accuracy:\", virginica_accuracy)\n",
        "print(\"Versicolor vs. non-Versicolor Accuracy:\", versicolor_accuracy)\n"
      ],
      "metadata": {
        "colab": {
          "base_uri": "https://localhost:8080/"
        },
        "id": "Y9cjqcsfNHmt",
        "outputId": "060cac00-2cc2-400c-854f-0f30e4249b50"
      },
      "execution_count": 38,
      "outputs": [
        {
          "output_type": "stream",
          "name": "stdout",
          "text": [
            "Setosa vs. non-Setosa Accuracy: 0.7866666666666666\n",
            "Virginica vs. non-Virginica Accuracy: 0.6666666666666666\n",
            "Versicolor vs. non-Versicolor Accuracy: 0.7333333333333333\n"
          ]
        }
      ]
    },
    {
      "cell_type": "code",
      "source": [],
      "metadata": {
        "id": "W5UeOyzRQ9oF"
      },
      "execution_count": 31,
      "outputs": []
    }
  ]
}